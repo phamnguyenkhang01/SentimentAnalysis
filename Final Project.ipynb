{
 "cells": [
  {
   "cell_type": "markdown",
   "metadata": {},
   "source": [
    "<center> <h2>Sentiment Analysis of Twitter Data for predicting Stock Price"
   ]
  },
  {
   "cell_type": "code",
   "execution_count": null,
   "metadata": {},
   "outputs": [],
   "source": []
  },
  {
   "cell_type": "markdown",
   "metadata": {},
   "source": [
    "__Introduction:__ This rpoject involves evaluation TESLA's social media data and uses sentiment classification to estimate its future stock trend. We employed sentiment analysis and machine learning principles to estimate the impact of \"public sentiment\" on \"market fluctuations.\""
   ]
  },
  {
   "cell_type": "markdown",
   "metadata": {},
   "source": [
    "### Import Required Python Packages"
   ]
  },
  {
   "cell_type": "code",
   "execution_count": 53,
   "metadata": {},
   "outputs": [],
   "source": [
    "import pandas as pd\n",
    "import numpy as np\n",
    "import requests\n",
    "from flask import Response\n",
    "import re\n",
    "\n",
    "from sklearn.model_selection import train_test_split\n",
    "from sklearn.ensemble import RandomForestRegressor\n",
    "from sklearn.ensemble import GradientBoostingClassifier\n",
    "from sklearn.ensemble import RandomForestClassifier\n",
    "\n",
    "from matplotlib import rcParams\n",
    "rcParams['figure.figsize'] = 12, 6\n",
    "import matplotlib.pyplot as plt\n",
    "plt.style.use('ggplot')\n",
    "\n",
    "\n",
    "from sklearn.metrics import *\n",
    "import warnings\n",
    "warnings.filterwarnings(\"ignore\")"
   ]
  },
  {
   "cell_type": "code",
   "execution_count": 2,
   "metadata": {},
   "outputs": [],
   "source": [
    "from Scweet.scweet import scrape\n",
    "from Scweet.user import get_user_information, get_users_following, get_users_followers"
   ]
  },
  {
   "cell_type": "code",
   "execution_count": 3,
   "metadata": {},
   "outputs": [
    {
     "name": "stdout",
     "output_type": "stream",
     "text": [
      "2021-11-10 02:41:34,974 loading file C:\\Users\\fahad\\.flair\\models\\sentiment-en-mix-distillbert_4.pt\n"
     ]
    }
   ],
   "source": [
    "import flair\n",
    "sentiment_model = flair.models.TextClassifier.load('en-sentiment')"
   ]
  },
  {
   "cell_type": "markdown",
   "metadata": {},
   "source": [
    "### Scweet Python Scraper"
   ]
  },
  {
   "cell_type": "code",
   "execution_count": 4,
   "metadata": {},
   "outputs": [],
   "source": [
    "# Python API allows to scrape only 7 days of data in free tier, So we managed to use Scweet tweets scraper to get tweets data for one year, \n",
    "#that can scrape the data between two given dates\n",
    "#data = scrape(words=['tesla'], since=\"2020-10-31\", until=\"2021-10-31\",interval=1, \n",
    " #    headless=True, display_type=\"Top\")"
   ]
  },
  {
   "cell_type": "code",
   "execution_count": 5,
   "metadata": {},
   "outputs": [],
   "source": [
    "# data saved to csv file after scraping\n",
    "#data.to_csv('scraped_data.csv', index = False)"
   ]
  },
  {
   "cell_type": "code",
   "execution_count": 7,
   "metadata": {},
   "outputs": [
    {
     "data": {
      "text/html": [
       "<div>\n",
       "<style scoped>\n",
       "    .dataframe tbody tr th:only-of-type {\n",
       "        vertical-align: middle;\n",
       "    }\n",
       "\n",
       "    .dataframe tbody tr th {\n",
       "        vertical-align: top;\n",
       "    }\n",
       "\n",
       "    .dataframe thead th {\n",
       "        text-align: right;\n",
       "    }\n",
       "</style>\n",
       "<table border=\"1\" class=\"dataframe\">\n",
       "  <thead>\n",
       "    <tr style=\"text-align: right;\">\n",
       "      <th></th>\n",
       "      <th>UserScreenName</th>\n",
       "      <th>UserName</th>\n",
       "      <th>Timestamp</th>\n",
       "      <th>Text</th>\n",
       "      <th>Embedded_text</th>\n",
       "      <th>Emojis</th>\n",
       "      <th>Comments</th>\n",
       "      <th>Likes</th>\n",
       "      <th>Retweets</th>\n",
       "      <th>Image link</th>\n",
       "      <th>Tweet URL</th>\n",
       "    </tr>\n",
       "  </thead>\n",
       "  <tbody>\n",
       "    <tr>\n",
       "      <th>0</th>\n",
       "      <td>East Bay Tesla Club | Fremont |</td>\n",
       "      <td>@TeslaOwnersEBay</td>\n",
       "      <td>2020-10-31T23:10:55.000Z</td>\n",
       "      <td>East Bay Tesla Club | Fremont |\\n@TeslaOwnersE...</td>\n",
       "      <td>Happy  Halloween  all you \\n@Tesla\\n Freaks!\\n...</td>\n",
       "      <td>👻 🎃</td>\n",
       "      <td>5</td>\n",
       "      <td>40</td>\n",
       "      <td>399</td>\n",
       "      <td>['https://pbs.twimg.com/media/ElsYJB5U0AAQjOY?...</td>\n",
       "      <td>https://twitter.com/TeslaOwnersEBay/status/132...</td>\n",
       "    </tr>\n",
       "    <tr>\n",
       "      <th>1</th>\n",
       "      <td>Kim Paquette</td>\n",
       "      <td>@kimpaquette</td>\n",
       "      <td>2020-10-31T21:02:45.000Z</td>\n",
       "      <td>Kim Paquette\\n@kimpaquette\\n·\\n1 Nov 2020</td>\n",
       "      <td>Guess what I am for Halloween!  #FSDBeta  #Tes...</td>\n",
       "      <td>💫 🦄 🎃 🤓</td>\n",
       "      <td>150</td>\n",
       "      <td>46</td>\n",
       "      <td>1.1K</td>\n",
       "      <td>['https://pbs.twimg.com/media/Elr6zZ_XYAAbIDj?...</td>\n",
       "      <td>https://twitter.com/kimpaquette/status/1322645...</td>\n",
       "    </tr>\n",
       "    <tr>\n",
       "      <th>2</th>\n",
       "      <td>Dogs of Tesla</td>\n",
       "      <td>@dogsoftesla</td>\n",
       "      <td>2020-10-31T21:58:30.000Z</td>\n",
       "      <td>Dogs of Tesla\\n@dogsoftesla\\n·\\n1 Nov 2020</td>\n",
       "      <td>F R A N K I E \\n\\nHappy Halloween! \\n\\n#Tesla...</td>\n",
       "      <td>✨ 💜 💜 ✨ 👻</td>\n",
       "      <td>10</td>\n",
       "      <td>21</td>\n",
       "      <td>152</td>\n",
       "      <td>['https://pbs.twimg.com/media/ElsHitAUYAAjt6q?...</td>\n",
       "      <td>https://twitter.com/dogsoftesla/status/1322659...</td>\n",
       "    </tr>\n",
       "    <tr>\n",
       "      <th>3</th>\n",
       "      <td>Luke</td>\n",
       "      <td>@tweetoflbc</td>\n",
       "      <td>2020-10-31T22:54:04.000Z</td>\n",
       "      <td>Luke\\n@tweetoflbc\\n·\\n1 Nov 2020</td>\n",
       "      <td>Major vibes  anyone know whose this is? #tesla...</td>\n",
       "      <td>🔥</td>\n",
       "      <td>2</td>\n",
       "      <td>4</td>\n",
       "      <td>48</td>\n",
       "      <td>['https://pbs.twimg.com/media/ElsUR_kU4AEWl-L?...</td>\n",
       "      <td>https://twitter.com/tweetoflbc/status/13226732...</td>\n",
       "    </tr>\n",
       "    <tr>\n",
       "      <th>4</th>\n",
       "      <td>Randy 'DUO' Mongenel</td>\n",
       "      <td>@RandyMongenel</td>\n",
       "      <td>2020-10-31T20:22:41.000Z</td>\n",
       "      <td>Randy 'DUO' Mongenel\\n@RandyMongenel\\n·\\n1 Nov...</td>\n",
       "      <td>One of the more interesting decals I've seen o...</td>\n",
       "      <td>NaN</td>\n",
       "      <td>2</td>\n",
       "      <td>NaN</td>\n",
       "      <td>5</td>\n",
       "      <td>['https://pbs.twimg.com/media/Elrxnj-UcAAAERw?...</td>\n",
       "      <td>https://twitter.com/RandyMongenel/status/13226...</td>\n",
       "    </tr>\n",
       "  </tbody>\n",
       "</table>\n",
       "</div>"
      ],
      "text/plain": [
       "                    UserScreenName          UserName  \\\n",
       "0  East Bay Tesla Club | Fremont |  @TeslaOwnersEBay   \n",
       "1                     Kim Paquette      @kimpaquette   \n",
       "2                    Dogs of Tesla      @dogsoftesla   \n",
       "3                             Luke       @tweetoflbc   \n",
       "4             Randy 'DUO' Mongenel    @RandyMongenel   \n",
       "\n",
       "                  Timestamp  \\\n",
       "0  2020-10-31T23:10:55.000Z   \n",
       "1  2020-10-31T21:02:45.000Z   \n",
       "2  2020-10-31T21:58:30.000Z   \n",
       "3  2020-10-31T22:54:04.000Z   \n",
       "4  2020-10-31T20:22:41.000Z   \n",
       "\n",
       "                                                Text  \\\n",
       "0  East Bay Tesla Club | Fremont |\\n@TeslaOwnersE...   \n",
       "1          Kim Paquette\\n@kimpaquette\\n·\\n1 Nov 2020   \n",
       "2         Dogs of Tesla\\n@dogsoftesla\\n·\\n1 Nov 2020   \n",
       "3                   Luke\\n@tweetoflbc\\n·\\n1 Nov 2020   \n",
       "4  Randy 'DUO' Mongenel\\n@RandyMongenel\\n·\\n1 Nov...   \n",
       "\n",
       "                                       Embedded_text     Emojis Comments  \\\n",
       "0  Happy  Halloween  all you \\n@Tesla\\n Freaks!\\n...        👻 🎃        5   \n",
       "1  Guess what I am for Halloween!  #FSDBeta  #Tes...    💫 🦄 🎃 🤓      150   \n",
       "2   F R A N K I E \\n\\nHappy Halloween! \\n\\n#Tesla...  ✨ 💜 💜 ✨ 👻       10   \n",
       "3  Major vibes  anyone know whose this is? #tesla...          🔥        2   \n",
       "4  One of the more interesting decals I've seen o...        NaN        2   \n",
       "\n",
       "  Likes Retweets                                         Image link  \\\n",
       "0    40      399  ['https://pbs.twimg.com/media/ElsYJB5U0AAQjOY?...   \n",
       "1    46     1.1K  ['https://pbs.twimg.com/media/Elr6zZ_XYAAbIDj?...   \n",
       "2    21      152  ['https://pbs.twimg.com/media/ElsHitAUYAAjt6q?...   \n",
       "3     4       48  ['https://pbs.twimg.com/media/ElsUR_kU4AEWl-L?...   \n",
       "4   NaN        5  ['https://pbs.twimg.com/media/Elrxnj-UcAAAERw?...   \n",
       "\n",
       "                                           Tweet URL  \n",
       "0  https://twitter.com/TeslaOwnersEBay/status/132...  \n",
       "1  https://twitter.com/kimpaquette/status/1322645...  \n",
       "2  https://twitter.com/dogsoftesla/status/1322659...  \n",
       "3  https://twitter.com/tweetoflbc/status/13226732...  \n",
       "4  https://twitter.com/RandyMongenel/status/13226...  "
      ]
     },
     "execution_count": 7,
     "metadata": {},
     "output_type": "execute_result"
    }
   ],
   "source": [
    "data = pd.read_csv('scraped_data.csv')\n",
    "data.head()"
   ]
  },
  {
   "cell_type": "markdown",
   "metadata": {},
   "source": [
    "#### Select only the Date and Text of speech from scraped data"
   ]
  },
  {
   "cell_type": "code",
   "execution_count": 8,
   "metadata": {},
   "outputs": [
    {
     "data": {
      "text/html": [
       "<div>\n",
       "<style scoped>\n",
       "    .dataframe tbody tr th:only-of-type {\n",
       "        vertical-align: middle;\n",
       "    }\n",
       "\n",
       "    .dataframe tbody tr th {\n",
       "        vertical-align: top;\n",
       "    }\n",
       "\n",
       "    .dataframe thead th {\n",
       "        text-align: right;\n",
       "    }\n",
       "</style>\n",
       "<table border=\"1\" class=\"dataframe\">\n",
       "  <thead>\n",
       "    <tr style=\"text-align: right;\">\n",
       "      <th></th>\n",
       "      <th>date</th>\n",
       "      <th>Embedded_text</th>\n",
       "    </tr>\n",
       "  </thead>\n",
       "  <tbody>\n",
       "    <tr>\n",
       "      <th>0</th>\n",
       "      <td>2020-10-31</td>\n",
       "      <td>Happy  Halloween  all you \\n@Tesla\\n Freaks!\\n...</td>\n",
       "    </tr>\n",
       "    <tr>\n",
       "      <th>1</th>\n",
       "      <td>2020-10-31</td>\n",
       "      <td>Guess what I am for Halloween!  #FSDBeta  #Tes...</td>\n",
       "    </tr>\n",
       "    <tr>\n",
       "      <th>2</th>\n",
       "      <td>2020-10-31</td>\n",
       "      <td>F R A N K I E \\n\\nHappy Halloween! \\n\\n#Tesla...</td>\n",
       "    </tr>\n",
       "    <tr>\n",
       "      <th>3</th>\n",
       "      <td>2020-10-31</td>\n",
       "      <td>Major vibes  anyone know whose this is? #tesla...</td>\n",
       "    </tr>\n",
       "    <tr>\n",
       "      <th>4</th>\n",
       "      <td>2020-10-31</td>\n",
       "      <td>One of the more interesting decals I've seen o...</td>\n",
       "    </tr>\n",
       "    <tr>\n",
       "      <th>5</th>\n",
       "      <td>2020-10-31</td>\n",
       "      <td>Just realized that even with the dozen or so F...</td>\n",
       "    </tr>\n",
       "    <tr>\n",
       "      <th>6</th>\n",
       "      <td>2020-10-31</td>\n",
       "      <td>How did you get a hold of that Chester? Thank ...</td>\n",
       "    </tr>\n",
       "    <tr>\n",
       "      <th>7</th>\n",
       "      <td>2020-10-31</td>\n",
       "      <td>Our #sociallydistanced #trickortreat solution....</td>\n",
       "    </tr>\n",
       "    <tr>\n",
       "      <th>8</th>\n",
       "      <td>2020-10-31</td>\n",
       "      <td>zombie apocalypse happen i’m stealing a tesla\\...</td>\n",
       "    </tr>\n",
       "    <tr>\n",
       "      <th>9</th>\n",
       "      <td>2020-10-31</td>\n",
       "      <td>Demand problem Natick Massachusetts . You know...</td>\n",
       "    </tr>\n",
       "    <tr>\n",
       "      <th>10</th>\n",
       "      <td>2020-10-31</td>\n",
       "      <td>What kind of science do you think is the futur...</td>\n",
       "    </tr>\n",
       "    <tr>\n",
       "      <th>11</th>\n",
       "      <td>2020-10-31</td>\n",
       "      <td>Hiring Bo Pelini to run an SEC defense in 2020...</td>\n",
       "    </tr>\n",
       "    <tr>\n",
       "      <th>12</th>\n",
       "      <td>2020-10-31</td>\n",
       "      <td>\"I do not think you can name many great invent...</td>\n",
       "    </tr>\n",
       "    <tr>\n",
       "      <th>13</th>\n",
       "      <td>2020-10-31</td>\n",
       "      <td>Patiently waiting for our new and final \\n@Tes...</td>\n",
       "    </tr>\n",
       "    <tr>\n",
       "      <th>14</th>\n",
       "      <td>2020-10-31</td>\n",
       "      <td>The all-new, fully electric #Polestar2 is the ...</td>\n",
       "    </tr>\n",
       "    <tr>\n",
       "      <th>15</th>\n",
       "      <td>2020-10-31</td>\n",
       "      <td>What is it that \\n@Tesla\\n @bp_plc\\n @HSBC\\n @...</td>\n",
       "    </tr>\n",
       "    <tr>\n",
       "      <th>16</th>\n",
       "      <td>2020-10-31</td>\n",
       "      <td>My kid just pointed out to me that when the \\n...</td>\n",
       "    </tr>\n",
       "    <tr>\n",
       "      <th>17</th>\n",
       "      <td>2020-10-31</td>\n",
       "      <td>Can't wait for \\n@Tesla\\n #FSDbeta to be rolle...</td>\n",
       "    </tr>\n",
       "    <tr>\n",
       "      <th>18</th>\n",
       "      <td>2020-10-31</td>\n",
       "      <td>Replying to \\n@TeslaOwnersEBay\\n @Tesla\\n  and...</td>\n",
       "    </tr>\n",
       "    <tr>\n",
       "      <th>19</th>\n",
       "      <td>2020-10-31</td>\n",
       "      <td>Replying to \\n@dogsoftesla\\n, \\n@elonmusk\\n an...</td>\n",
       "    </tr>\n",
       "  </tbody>\n",
       "</table>\n",
       "</div>"
      ],
      "text/plain": [
       "          date                                      Embedded_text\n",
       "0   2020-10-31  Happy  Halloween  all you \\n@Tesla\\n Freaks!\\n...\n",
       "1   2020-10-31  Guess what I am for Halloween!  #FSDBeta  #Tes...\n",
       "2   2020-10-31   F R A N K I E \\n\\nHappy Halloween! \\n\\n#Tesla...\n",
       "3   2020-10-31  Major vibes  anyone know whose this is? #tesla...\n",
       "4   2020-10-31  One of the more interesting decals I've seen o...\n",
       "5   2020-10-31  Just realized that even with the dozen or so F...\n",
       "6   2020-10-31  How did you get a hold of that Chester? Thank ...\n",
       "7   2020-10-31  Our #sociallydistanced #trickortreat solution....\n",
       "8   2020-10-31  zombie apocalypse happen i’m stealing a tesla\\...\n",
       "9   2020-10-31  Demand problem Natick Massachusetts . You know...\n",
       "10  2020-10-31  What kind of science do you think is the futur...\n",
       "11  2020-10-31  Hiring Bo Pelini to run an SEC defense in 2020...\n",
       "12  2020-10-31  \"I do not think you can name many great invent...\n",
       "13  2020-10-31  Patiently waiting for our new and final \\n@Tes...\n",
       "14  2020-10-31  The all-new, fully electric #Polestar2 is the ...\n",
       "15  2020-10-31  What is it that \\n@Tesla\\n @bp_plc\\n @HSBC\\n @...\n",
       "16  2020-10-31  My kid just pointed out to me that when the \\n...\n",
       "17  2020-10-31  Can't wait for \\n@Tesla\\n #FSDbeta to be rolle...\n",
       "18  2020-10-31  Replying to \\n@TeslaOwnersEBay\\n @Tesla\\n  and...\n",
       "19  2020-10-31  Replying to \\n@dogsoftesla\\n, \\n@elonmusk\\n an..."
      ]
     },
     "execution_count": 8,
     "metadata": {},
     "output_type": "execute_result"
    }
   ],
   "source": [
    "import datetime\n",
    "data['date'] = pd.to_datetime(data['Timestamp']).dt.date\n",
    "df = data[['date', 'Embedded_text']]\n",
    "df.head(20)"
   ]
  },
  {
   "cell_type": "markdown",
   "metadata": {},
   "source": [
    "#### Combine the tweets for each date in same rows."
   ]
  },
  {
   "cell_type": "code",
   "execution_count": 9,
   "metadata": {},
   "outputs": [
    {
     "data": {
      "text/html": [
       "<div>\n",
       "<style scoped>\n",
       "    .dataframe tbody tr th:only-of-type {\n",
       "        vertical-align: middle;\n",
       "    }\n",
       "\n",
       "    .dataframe tbody tr th {\n",
       "        vertical-align: top;\n",
       "    }\n",
       "\n",
       "    .dataframe thead th {\n",
       "        text-align: right;\n",
       "    }\n",
       "</style>\n",
       "<table border=\"1\" class=\"dataframe\">\n",
       "  <thead>\n",
       "    <tr style=\"text-align: right;\">\n",
       "      <th></th>\n",
       "      <th>date</th>\n",
       "      <th>Embedded_text</th>\n",
       "    </tr>\n",
       "  </thead>\n",
       "  <tbody>\n",
       "    <tr>\n",
       "      <th>0</th>\n",
       "      <td>2020-10-31</td>\n",
       "      <td>Happy  Halloween  all you \\n@Tesla\\n Freaks!\\n...</td>\n",
       "    </tr>\n",
       "    <tr>\n",
       "      <th>1</th>\n",
       "      <td>2020-11-01</td>\n",
       "      <td>Is this the first Tesla in the country?\\n118\\n...</td>\n",
       "    </tr>\n",
       "    <tr>\n",
       "      <th>2</th>\n",
       "      <td>2020-11-02</td>\n",
       "      <td>Tesla Model Y is here! And quality is pretty d...</td>\n",
       "    </tr>\n",
       "    <tr>\n",
       "      <th>3</th>\n",
       "      <td>2020-11-03</td>\n",
       "      <td>I like that the Tesla maps now identify inters...</td>\n",
       "    </tr>\n",
       "    <tr>\n",
       "      <th>4</th>\n",
       "      <td>2020-11-04</td>\n",
       "      <td>Hey Tesla take me to Kinoo\\n\\nAutopilot :\\n3\\n...</td>\n",
       "    </tr>\n",
       "  </tbody>\n",
       "</table>\n",
       "</div>"
      ],
      "text/plain": [
       "         date                                      Embedded_text\n",
       "0  2020-10-31  Happy  Halloween  all you \\n@Tesla\\n Freaks!\\n...\n",
       "1  2020-11-01  Is this the first Tesla in the country?\\n118\\n...\n",
       "2  2020-11-02  Tesla Model Y is here! And quality is pretty d...\n",
       "3  2020-11-03  I like that the Tesla maps now identify inters...\n",
       "4  2020-11-04  Hey Tesla take me to Kinoo\\n\\nAutopilot :\\n3\\n..."
      ]
     },
     "execution_count": 9,
     "metadata": {},
     "output_type": "execute_result"
    }
   ],
   "source": [
    "df['Embedded_text'] = df.groupby('date')[['Embedded_text']].transform(lambda x : ' '.join(x))\n",
    "df = df.drop_duplicates().reset_index().drop('index', axis = 1)\n",
    "df.head()"
   ]
  },
  {
   "cell_type": "markdown",
   "metadata": {},
   "source": [
    "#### Sentiment Analysis\n",
    "  - Flair\n",
    "  - Analyzing Tesla Tweets"
   ]
  },
  {
   "cell_type": "code",
   "execution_count": 10,
   "metadata": {},
   "outputs": [],
   "source": [
    "# function to clean tweet text by removing links, special characters using simple regex statements\n",
    "def clean_tweet(tweet):\n",
    "    \"\"\" Utility . \"\"\"\n",
    "    return ' '.join(re.sub(\"(@[A-Za-z0-9]+)|([^0-9A-Za-z \\t])|(\\w+://\\S+)\", \" \", tweet).split())"
   ]
  },
  {
   "cell_type": "markdown",
   "metadata": {},
   "source": [
    "__Note:__ We'll be using the flair library's pre-trained sentiment analysis model.\n",
    "This model divides the text into character-level tokens and makes predictions using the DistilBERT model.\n",
    "Working at the character level (rather than the word level) has the advantage of allowing the network to attribute a feeling to words it has never encountered before."
   ]
  },
  {
   "cell_type": "code",
   "execution_count": 11,
   "metadata": {},
   "outputs": [],
   "source": [
    "probs = []\n",
    "sentiments = []\n",
    "\n",
    "for tweet in df['Embedded_text'].to_list():\n",
    "    # make prediction\n",
    "    tweet = clean_tweet(tweet)\n",
    "    sentence = flair.data.Sentence(tweet)\n",
    "    sentiment_model.predict(sentence)\n",
    "    #extract sentiment prediction\n",
    "    probs.append(sentence.labels[0].score)  # numerical score 0-1\n",
    "    sentiments.append(sentence.labels[0].value)  # 'POSITIVE' or 'NEGATIVE'\n",
    "\n",
    "# add probability and sentiment predictions to tweets dataframe\n",
    "df['probability'] = probs\n",
    "df['sentiment'] = sentiments"
   ]
  },
  {
   "cell_type": "code",
   "execution_count": 12,
   "metadata": {},
   "outputs": [],
   "source": [
    "tweet_prob = df[['date', 'probability', 'sentiment']]\n",
    "tweet_prob['date'] = pd.to_datetime(tweet_prob['date']) # convert string date object to datetime object"
   ]
  },
  {
   "cell_type": "markdown",
   "metadata": {},
   "source": [
    "### Use Textblob to calculate polarity  parameter from the tweet text"
   ]
  },
  {
   "cell_type": "code",
   "execution_count": 13,
   "metadata": {},
   "outputs": [],
   "source": [
    "from textblob import TextBlob\n",
    "from nltk.sentiment.vader import SentimentIntensityAnalyzer\n",
    "\n",
    "polarity = 0\n",
    "tweet_polarity = []\n",
    " \n",
    " #print(tweet.text)\n",
    "for tweet in df['Embedded_text'].to_list():\n",
    "    analysis = TextBlob(tweet)\n",
    "    score = SentimentIntensityAnalyzer().polarity_scores(tweet)\n",
    "    polarity = analysis.sentiment.polarity\n",
    "    tweet_polarity.append(polarity)"
   ]
  },
  {
   "cell_type": "code",
   "execution_count": 14,
   "metadata": {},
   "outputs": [],
   "source": [
    "tweet_prob['tweet_polarity'] =  tweet_polarity"
   ]
  },
  {
   "cell_type": "markdown",
   "metadata": {},
   "source": [
    "__Inference:__ We can observe from the above results flair model has created the positive and negative sentiments for compiled tweets of each day of last one year."
   ]
  },
  {
   "cell_type": "code",
   "execution_count": 16,
   "metadata": {},
   "outputs": [
    {
     "data": {
      "text/html": [
       "<div>\n",
       "<style scoped>\n",
       "    .dataframe tbody tr th:only-of-type {\n",
       "        vertical-align: middle;\n",
       "    }\n",
       "\n",
       "    .dataframe tbody tr th {\n",
       "        vertical-align: top;\n",
       "    }\n",
       "\n",
       "    .dataframe thead th {\n",
       "        text-align: right;\n",
       "    }\n",
       "</style>\n",
       "<table border=\"1\" class=\"dataframe\">\n",
       "  <thead>\n",
       "    <tr style=\"text-align: right;\">\n",
       "      <th></th>\n",
       "      <th>Date</th>\n",
       "      <th>Open</th>\n",
       "      <th>High</th>\n",
       "      <th>Low</th>\n",
       "      <th>Close</th>\n",
       "      <th>Adj Close</th>\n",
       "      <th>Volume</th>\n",
       "    </tr>\n",
       "  </thead>\n",
       "  <tbody>\n",
       "    <tr>\n",
       "      <th>0</th>\n",
       "      <td>2020-02-11</td>\n",
       "      <td>394.000000</td>\n",
       "      <td>406.980011</td>\n",
       "      <td>392.299988</td>\n",
       "      <td>400.510010</td>\n",
       "      <td>400.510010</td>\n",
       "      <td>29021100</td>\n",
       "    </tr>\n",
       "    <tr>\n",
       "      <th>1</th>\n",
       "      <td>2020-03-11</td>\n",
       "      <td>409.730011</td>\n",
       "      <td>427.769989</td>\n",
       "      <td>406.690002</td>\n",
       "      <td>423.899994</td>\n",
       "      <td>423.899994</td>\n",
       "      <td>34351700</td>\n",
       "    </tr>\n",
       "    <tr>\n",
       "      <th>2</th>\n",
       "      <td>2020-04-11</td>\n",
       "      <td>430.619995</td>\n",
       "      <td>435.399994</td>\n",
       "      <td>417.100006</td>\n",
       "      <td>420.980011</td>\n",
       "      <td>420.980011</td>\n",
       "      <td>32143100</td>\n",
       "    </tr>\n",
       "    <tr>\n",
       "      <th>3</th>\n",
       "      <td>2020-05-11</td>\n",
       "      <td>428.299988</td>\n",
       "      <td>440.000000</td>\n",
       "      <td>424.000000</td>\n",
       "      <td>438.089996</td>\n",
       "      <td>438.089996</td>\n",
       "      <td>28414500</td>\n",
       "    </tr>\n",
       "    <tr>\n",
       "      <th>4</th>\n",
       "      <td>2020-06-11</td>\n",
       "      <td>436.100006</td>\n",
       "      <td>436.570007</td>\n",
       "      <td>424.279999</td>\n",
       "      <td>429.950012</td>\n",
       "      <td>429.950012</td>\n",
       "      <td>21706000</td>\n",
       "    </tr>\n",
       "    <tr>\n",
       "      <th>...</th>\n",
       "      <td>...</td>\n",
       "      <td>...</td>\n",
       "      <td>...</td>\n",
       "      <td>...</td>\n",
       "      <td>...</td>\n",
       "      <td>...</td>\n",
       "      <td>...</td>\n",
       "    </tr>\n",
       "    <tr>\n",
       "      <th>246</th>\n",
       "      <td>2021-10-25</td>\n",
       "      <td>950.530029</td>\n",
       "      <td>1045.020020</td>\n",
       "      <td>944.200012</td>\n",
       "      <td>1024.859985</td>\n",
       "      <td>1024.859985</td>\n",
       "      <td>62852100</td>\n",
       "    </tr>\n",
       "    <tr>\n",
       "      <th>247</th>\n",
       "      <td>2021-10-26</td>\n",
       "      <td>1024.689941</td>\n",
       "      <td>1094.939941</td>\n",
       "      <td>1001.440002</td>\n",
       "      <td>1018.429993</td>\n",
       "      <td>1018.429993</td>\n",
       "      <td>62415000</td>\n",
       "    </tr>\n",
       "    <tr>\n",
       "      <th>248</th>\n",
       "      <td>2021-10-27</td>\n",
       "      <td>1039.660034</td>\n",
       "      <td>1070.880005</td>\n",
       "      <td>1030.780029</td>\n",
       "      <td>1037.859985</td>\n",
       "      <td>1037.859985</td>\n",
       "      <td>38526500</td>\n",
       "    </tr>\n",
       "    <tr>\n",
       "      <th>249</th>\n",
       "      <td>2021-10-28</td>\n",
       "      <td>1068.310059</td>\n",
       "      <td>1081.000000</td>\n",
       "      <td>1054.199951</td>\n",
       "      <td>1077.040039</td>\n",
       "      <td>1077.040039</td>\n",
       "      <td>27213200</td>\n",
       "    </tr>\n",
       "    <tr>\n",
       "      <th>250</th>\n",
       "      <td>2021-10-29</td>\n",
       "      <td>1081.859985</td>\n",
       "      <td>1115.209961</td>\n",
       "      <td>1073.209961</td>\n",
       "      <td>1114.000000</td>\n",
       "      <td>1114.000000</td>\n",
       "      <td>29918400</td>\n",
       "    </tr>\n",
       "  </tbody>\n",
       "</table>\n",
       "<p>251 rows × 7 columns</p>\n",
       "</div>"
      ],
      "text/plain": [
       "          Date         Open         High          Low        Close  \\\n",
       "0   2020-02-11   394.000000   406.980011   392.299988   400.510010   \n",
       "1   2020-03-11   409.730011   427.769989   406.690002   423.899994   \n",
       "2   2020-04-11   430.619995   435.399994   417.100006   420.980011   \n",
       "3   2020-05-11   428.299988   440.000000   424.000000   438.089996   \n",
       "4   2020-06-11   436.100006   436.570007   424.279999   429.950012   \n",
       "..         ...          ...          ...          ...          ...   \n",
       "246 2021-10-25   950.530029  1045.020020   944.200012  1024.859985   \n",
       "247 2021-10-26  1024.689941  1094.939941  1001.440002  1018.429993   \n",
       "248 2021-10-27  1039.660034  1070.880005  1030.780029  1037.859985   \n",
       "249 2021-10-28  1068.310059  1081.000000  1054.199951  1077.040039   \n",
       "250 2021-10-29  1081.859985  1115.209961  1073.209961  1114.000000   \n",
       "\n",
       "       Adj Close    Volume  \n",
       "0     400.510010  29021100  \n",
       "1     423.899994  34351700  \n",
       "2     420.980011  32143100  \n",
       "3     438.089996  28414500  \n",
       "4     429.950012  21706000  \n",
       "..           ...       ...  \n",
       "246  1024.859985  62852100  \n",
       "247  1018.429993  62415000  \n",
       "248  1037.859985  38526500  \n",
       "249  1077.040039  27213200  \n",
       "250  1114.000000  29918400  \n",
       "\n",
       "[251 rows x 7 columns]"
      ]
     },
     "execution_count": 16,
     "metadata": {},
     "output_type": "execute_result"
    }
   ],
   "source": [
    "# The yahoo finance API is not working fine to scrape the data, so we direclty \n",
    "# downloaded one year of data from https://finance.yahoo.com/quote/TSLA/\n",
    "\n",
    "tesla = pd.read_csv('tsla.csv')\n",
    "tesla['Date'] = pd.to_datetime(tesla['Date']) # convert string date object to datetime object\n",
    "tesla"
   ]
  },
  {
   "cell_type": "code",
   "execution_count": 17,
   "metadata": {},
   "outputs": [
    {
     "data": {
      "text/html": [
       "<div>\n",
       "<style scoped>\n",
       "    .dataframe tbody tr th:only-of-type {\n",
       "        vertical-align: middle;\n",
       "    }\n",
       "\n",
       "    .dataframe tbody tr th {\n",
       "        vertical-align: top;\n",
       "    }\n",
       "\n",
       "    .dataframe thead th {\n",
       "        text-align: right;\n",
       "    }\n",
       "</style>\n",
       "<table border=\"1\" class=\"dataframe\">\n",
       "  <thead>\n",
       "    <tr style=\"text-align: right;\">\n",
       "      <th></th>\n",
       "      <th>date</th>\n",
       "      <th>probability</th>\n",
       "      <th>sentiment</th>\n",
       "      <th>tweet_polarity</th>\n",
       "      <th>Date</th>\n",
       "      <th>Open</th>\n",
       "      <th>High</th>\n",
       "      <th>Low</th>\n",
       "      <th>Close</th>\n",
       "      <th>Adj Close</th>\n",
       "      <th>Volume</th>\n",
       "    </tr>\n",
       "  </thead>\n",
       "  <tbody>\n",
       "    <tr>\n",
       "      <th>0</th>\n",
       "      <td>2020-11-11</td>\n",
       "      <td>0.821078</td>\n",
       "      <td>POSITIVE</td>\n",
       "      <td>0.150447</td>\n",
       "      <td>2020-11-11</td>\n",
       "      <td>416.450012</td>\n",
       "      <td>418.700012</td>\n",
       "      <td>410.579987</td>\n",
       "      <td>417.130005</td>\n",
       "      <td>417.130005</td>\n",
       "      <td>17357700</td>\n",
       "    </tr>\n",
       "    <tr>\n",
       "      <th>1</th>\n",
       "      <td>2020-11-12</td>\n",
       "      <td>0.942596</td>\n",
       "      <td>NEGATIVE</td>\n",
       "      <td>0.217726</td>\n",
       "      <td>2020-11-12</td>\n",
       "      <td>615.010010</td>\n",
       "      <td>624.000000</td>\n",
       "      <td>596.799988</td>\n",
       "      <td>609.989990</td>\n",
       "      <td>609.989990</td>\n",
       "      <td>46475000</td>\n",
       "    </tr>\n",
       "    <tr>\n",
       "      <th>2</th>\n",
       "      <td>2020-11-13</td>\n",
       "      <td>0.999725</td>\n",
       "      <td>NEGATIVE</td>\n",
       "      <td>0.092293</td>\n",
       "      <td>2020-11-13</td>\n",
       "      <td>410.850006</td>\n",
       "      <td>412.529999</td>\n",
       "      <td>401.660004</td>\n",
       "      <td>408.500000</td>\n",
       "      <td>408.500000</td>\n",
       "      <td>19771100</td>\n",
       "    </tr>\n",
       "    <tr>\n",
       "      <th>3</th>\n",
       "      <td>2020-11-16</td>\n",
       "      <td>0.998980</td>\n",
       "      <td>POSITIVE</td>\n",
       "      <td>0.200596</td>\n",
       "      <td>2020-11-16</td>\n",
       "      <td>408.929993</td>\n",
       "      <td>412.450012</td>\n",
       "      <td>404.089996</td>\n",
       "      <td>408.089996</td>\n",
       "      <td>408.089996</td>\n",
       "      <td>26838600</td>\n",
       "    </tr>\n",
       "    <tr>\n",
       "      <th>4</th>\n",
       "      <td>2020-11-17</td>\n",
       "      <td>0.998251</td>\n",
       "      <td>POSITIVE</td>\n",
       "      <td>0.192465</td>\n",
       "      <td>2020-11-17</td>\n",
       "      <td>460.170013</td>\n",
       "      <td>462.000000</td>\n",
       "      <td>433.010010</td>\n",
       "      <td>441.609985</td>\n",
       "      <td>441.609985</td>\n",
       "      <td>61188300</td>\n",
       "    </tr>\n",
       "    <tr>\n",
       "      <th>...</th>\n",
       "      <td>...</td>\n",
       "      <td>...</td>\n",
       "      <td>...</td>\n",
       "      <td>...</td>\n",
       "      <td>...</td>\n",
       "      <td>...</td>\n",
       "      <td>...</td>\n",
       "      <td>...</td>\n",
       "      <td>...</td>\n",
       "      <td>...</td>\n",
       "      <td>...</td>\n",
       "    </tr>\n",
       "    <tr>\n",
       "      <th>211</th>\n",
       "      <td>2021-10-25</td>\n",
       "      <td>0.998716</td>\n",
       "      <td>POSITIVE</td>\n",
       "      <td>0.190844</td>\n",
       "      <td>2021-10-25</td>\n",
       "      <td>950.530029</td>\n",
       "      <td>1045.020020</td>\n",
       "      <td>944.200012</td>\n",
       "      <td>1024.859985</td>\n",
       "      <td>1024.859985</td>\n",
       "      <td>62852100</td>\n",
       "    </tr>\n",
       "    <tr>\n",
       "      <th>212</th>\n",
       "      <td>2021-10-26</td>\n",
       "      <td>0.999432</td>\n",
       "      <td>NEGATIVE</td>\n",
       "      <td>0.124890</td>\n",
       "      <td>2021-10-26</td>\n",
       "      <td>1024.689941</td>\n",
       "      <td>1094.939941</td>\n",
       "      <td>1001.440002</td>\n",
       "      <td>1018.429993</td>\n",
       "      <td>1018.429993</td>\n",
       "      <td>62415000</td>\n",
       "    </tr>\n",
       "    <tr>\n",
       "      <th>213</th>\n",
       "      <td>2021-10-27</td>\n",
       "      <td>0.999017</td>\n",
       "      <td>NEGATIVE</td>\n",
       "      <td>0.085150</td>\n",
       "      <td>2021-10-27</td>\n",
       "      <td>1039.660034</td>\n",
       "      <td>1070.880005</td>\n",
       "      <td>1030.780029</td>\n",
       "      <td>1037.859985</td>\n",
       "      <td>1037.859985</td>\n",
       "      <td>38526500</td>\n",
       "    </tr>\n",
       "    <tr>\n",
       "      <th>214</th>\n",
       "      <td>2021-10-28</td>\n",
       "      <td>0.534431</td>\n",
       "      <td>POSITIVE</td>\n",
       "      <td>0.192312</td>\n",
       "      <td>2021-10-28</td>\n",
       "      <td>1068.310059</td>\n",
       "      <td>1081.000000</td>\n",
       "      <td>1054.199951</td>\n",
       "      <td>1077.040039</td>\n",
       "      <td>1077.040039</td>\n",
       "      <td>27213200</td>\n",
       "    </tr>\n",
       "    <tr>\n",
       "      <th>215</th>\n",
       "      <td>2021-10-29</td>\n",
       "      <td>0.885372</td>\n",
       "      <td>POSITIVE</td>\n",
       "      <td>0.241323</td>\n",
       "      <td>2021-10-29</td>\n",
       "      <td>1081.859985</td>\n",
       "      <td>1115.209961</td>\n",
       "      <td>1073.209961</td>\n",
       "      <td>1114.000000</td>\n",
       "      <td>1114.000000</td>\n",
       "      <td>29918400</td>\n",
       "    </tr>\n",
       "  </tbody>\n",
       "</table>\n",
       "<p>216 rows × 11 columns</p>\n",
       "</div>"
      ],
      "text/plain": [
       "          date  probability sentiment  tweet_polarity       Date         Open  \\\n",
       "0   2020-11-11     0.821078  POSITIVE        0.150447 2020-11-11   416.450012   \n",
       "1   2020-11-12     0.942596  NEGATIVE        0.217726 2020-11-12   615.010010   \n",
       "2   2020-11-13     0.999725  NEGATIVE        0.092293 2020-11-13   410.850006   \n",
       "3   2020-11-16     0.998980  POSITIVE        0.200596 2020-11-16   408.929993   \n",
       "4   2020-11-17     0.998251  POSITIVE        0.192465 2020-11-17   460.170013   \n",
       "..         ...          ...       ...             ...        ...          ...   \n",
       "211 2021-10-25     0.998716  POSITIVE        0.190844 2021-10-25   950.530029   \n",
       "212 2021-10-26     0.999432  NEGATIVE        0.124890 2021-10-26  1024.689941   \n",
       "213 2021-10-27     0.999017  NEGATIVE        0.085150 2021-10-27  1039.660034   \n",
       "214 2021-10-28     0.534431  POSITIVE        0.192312 2021-10-28  1068.310059   \n",
       "215 2021-10-29     0.885372  POSITIVE        0.241323 2021-10-29  1081.859985   \n",
       "\n",
       "            High          Low        Close    Adj Close    Volume  \n",
       "0     418.700012   410.579987   417.130005   417.130005  17357700  \n",
       "1     624.000000   596.799988   609.989990   609.989990  46475000  \n",
       "2     412.529999   401.660004   408.500000   408.500000  19771100  \n",
       "3     412.450012   404.089996   408.089996   408.089996  26838600  \n",
       "4     462.000000   433.010010   441.609985   441.609985  61188300  \n",
       "..           ...          ...          ...          ...       ...  \n",
       "211  1045.020020   944.200012  1024.859985  1024.859985  62852100  \n",
       "212  1094.939941  1001.440002  1018.429993  1018.429993  62415000  \n",
       "213  1070.880005  1030.780029  1037.859985  1037.859985  38526500  \n",
       "214  1081.000000  1054.199951  1077.040039  1077.040039  27213200  \n",
       "215  1115.209961  1073.209961  1114.000000  1114.000000  29918400  \n",
       "\n",
       "[216 rows x 11 columns]"
      ]
     },
     "execution_count": 17,
     "metadata": {},
     "output_type": "execute_result"
    }
   ],
   "source": [
    "df_merged = pd.merge(left=tweet_prob, right=tesla, left_on='date', right_on='Date')\n",
    "df_merged"
   ]
  },
  {
   "cell_type": "code",
   "execution_count": 18,
   "metadata": {},
   "outputs": [
    {
     "data": {
      "text/html": [
       "<div>\n",
       "<style scoped>\n",
       "    .dataframe tbody tr th:only-of-type {\n",
       "        vertical-align: middle;\n",
       "    }\n",
       "\n",
       "    .dataframe tbody tr th {\n",
       "        vertical-align: top;\n",
       "    }\n",
       "\n",
       "    .dataframe thead th {\n",
       "        text-align: right;\n",
       "    }\n",
       "</style>\n",
       "<table border=\"1\" class=\"dataframe\">\n",
       "  <thead>\n",
       "    <tr style=\"text-align: right;\">\n",
       "      <th></th>\n",
       "      <th>date</th>\n",
       "      <th>probability</th>\n",
       "      <th>sentiment</th>\n",
       "      <th>tweet_polarity</th>\n",
       "      <th>Date</th>\n",
       "      <th>Open</th>\n",
       "      <th>High</th>\n",
       "      <th>Low</th>\n",
       "      <th>Close</th>\n",
       "      <th>Adj Close</th>\n",
       "      <th>Volume</th>\n",
       "      <th>Price Diff</th>\n",
       "      <th>Trend</th>\n",
       "    </tr>\n",
       "  </thead>\n",
       "  <tbody>\n",
       "    <tr>\n",
       "      <th>1</th>\n",
       "      <td>2020-11-12</td>\n",
       "      <td>0.942596</td>\n",
       "      <td>NEGATIVE</td>\n",
       "      <td>0.217726</td>\n",
       "      <td>2020-11-12</td>\n",
       "      <td>615.010010</td>\n",
       "      <td>624.000000</td>\n",
       "      <td>596.799988</td>\n",
       "      <td>609.989990</td>\n",
       "      <td>609.989990</td>\n",
       "      <td>46475000</td>\n",
       "      <td>192.859985</td>\n",
       "      <td>1</td>\n",
       "    </tr>\n",
       "    <tr>\n",
       "      <th>2</th>\n",
       "      <td>2020-11-13</td>\n",
       "      <td>0.999725</td>\n",
       "      <td>NEGATIVE</td>\n",
       "      <td>0.092293</td>\n",
       "      <td>2020-11-13</td>\n",
       "      <td>410.850006</td>\n",
       "      <td>412.529999</td>\n",
       "      <td>401.660004</td>\n",
       "      <td>408.500000</td>\n",
       "      <td>408.500000</td>\n",
       "      <td>19771100</td>\n",
       "      <td>-201.489990</td>\n",
       "      <td>0</td>\n",
       "    </tr>\n",
       "    <tr>\n",
       "      <th>3</th>\n",
       "      <td>2020-11-16</td>\n",
       "      <td>0.998980</td>\n",
       "      <td>POSITIVE</td>\n",
       "      <td>0.200596</td>\n",
       "      <td>2020-11-16</td>\n",
       "      <td>408.929993</td>\n",
       "      <td>412.450012</td>\n",
       "      <td>404.089996</td>\n",
       "      <td>408.089996</td>\n",
       "      <td>408.089996</td>\n",
       "      <td>26838600</td>\n",
       "      <td>-0.410004</td>\n",
       "      <td>0</td>\n",
       "    </tr>\n",
       "    <tr>\n",
       "      <th>4</th>\n",
       "      <td>2020-11-17</td>\n",
       "      <td>0.998251</td>\n",
       "      <td>POSITIVE</td>\n",
       "      <td>0.192465</td>\n",
       "      <td>2020-11-17</td>\n",
       "      <td>460.170013</td>\n",
       "      <td>462.000000</td>\n",
       "      <td>433.010010</td>\n",
       "      <td>441.609985</td>\n",
       "      <td>441.609985</td>\n",
       "      <td>61188300</td>\n",
       "      <td>33.519989</td>\n",
       "      <td>1</td>\n",
       "    </tr>\n",
       "    <tr>\n",
       "      <th>5</th>\n",
       "      <td>2020-11-18</td>\n",
       "      <td>0.997662</td>\n",
       "      <td>NEGATIVE</td>\n",
       "      <td>0.201802</td>\n",
       "      <td>2020-11-18</td>\n",
       "      <td>448.350006</td>\n",
       "      <td>496.000000</td>\n",
       "      <td>443.500000</td>\n",
       "      <td>486.640015</td>\n",
       "      <td>486.640015</td>\n",
       "      <td>78044000</td>\n",
       "      <td>45.030030</td>\n",
       "      <td>1</td>\n",
       "    </tr>\n",
       "  </tbody>\n",
       "</table>\n",
       "</div>"
      ],
      "text/plain": [
       "        date  probability sentiment  tweet_polarity       Date        Open  \\\n",
       "1 2020-11-12     0.942596  NEGATIVE        0.217726 2020-11-12  615.010010   \n",
       "2 2020-11-13     0.999725  NEGATIVE        0.092293 2020-11-13  410.850006   \n",
       "3 2020-11-16     0.998980  POSITIVE        0.200596 2020-11-16  408.929993   \n",
       "4 2020-11-17     0.998251  POSITIVE        0.192465 2020-11-17  460.170013   \n",
       "5 2020-11-18     0.997662  NEGATIVE        0.201802 2020-11-18  448.350006   \n",
       "\n",
       "         High         Low       Close   Adj Close    Volume  Price Diff  Trend  \n",
       "1  624.000000  596.799988  609.989990  609.989990  46475000  192.859985      1  \n",
       "2  412.529999  401.660004  408.500000  408.500000  19771100 -201.489990      0  \n",
       "3  412.450012  404.089996  408.089996  408.089996  26838600   -0.410004      0  \n",
       "4  462.000000  433.010010  441.609985  441.609985  61188300   33.519989      1  \n",
       "5  496.000000  443.500000  486.640015  486.640015  78044000   45.030030      1  "
      ]
     },
     "execution_count": 18,
     "metadata": {},
     "output_type": "execute_result"
    }
   ],
   "source": [
    "#Stock Trend is calculated by taking the difference between today's price and the previous day's\n",
    "#price and converting it to a '0' for a decline and a '1' for an increase in stock price.\n",
    "df_merged['Price Diff'] = df_merged['Adj Close'].diff()\n",
    "df_merged.dropna(inplace = True)\n",
    "df_merged['Trend'] = np.where(df_merged['Price Diff'] > 0 , 1, 0)\n",
    "\n",
    "df_merged.head()"
   ]
  },
  {
   "cell_type": "markdown",
   "metadata": {},
   "source": [
    "#### Create seperate binary variables for Sentiment features"
   ]
  },
  {
   "cell_type": "code",
   "execution_count": 19,
   "metadata": {},
   "outputs": [],
   "source": [
    "# encode each categorical variable in the loop\n",
    "df_e = pd.get_dummies(df_merged['sentiment'], prefix = 'sentiment', drop_first = False)\n",
    "    \n",
    "    # combine the insurance dataset with the encoded categorical variable\n",
    "df_merged = pd.concat([df_merged, df_e], axis = 1)\n",
    "    \n",
    "    # drop the original non-encoded categorical variable from the dataset\n",
    "del df_merged['sentiment']\n",
    "df_merged = df_merged.set_index('date')"
   ]
  },
  {
   "cell_type": "code",
   "execution_count": 20,
   "metadata": {},
   "outputs": [
    {
     "data": {
      "text/html": [
       "<div>\n",
       "<style scoped>\n",
       "    .dataframe tbody tr th:only-of-type {\n",
       "        vertical-align: middle;\n",
       "    }\n",
       "\n",
       "    .dataframe tbody tr th {\n",
       "        vertical-align: top;\n",
       "    }\n",
       "\n",
       "    .dataframe thead th {\n",
       "        text-align: right;\n",
       "    }\n",
       "</style>\n",
       "<table border=\"1\" class=\"dataframe\">\n",
       "  <thead>\n",
       "    <tr style=\"text-align: right;\">\n",
       "      <th></th>\n",
       "      <th>probability</th>\n",
       "      <th>tweet_polarity</th>\n",
       "      <th>Date</th>\n",
       "      <th>Open</th>\n",
       "      <th>High</th>\n",
       "      <th>Low</th>\n",
       "      <th>Close</th>\n",
       "      <th>Adj Close</th>\n",
       "      <th>Volume</th>\n",
       "      <th>Price Diff</th>\n",
       "      <th>Trend</th>\n",
       "      <th>sentiment_NEGATIVE</th>\n",
       "      <th>sentiment_POSITIVE</th>\n",
       "    </tr>\n",
       "    <tr>\n",
       "      <th>date</th>\n",
       "      <th></th>\n",
       "      <th></th>\n",
       "      <th></th>\n",
       "      <th></th>\n",
       "      <th></th>\n",
       "      <th></th>\n",
       "      <th></th>\n",
       "      <th></th>\n",
       "      <th></th>\n",
       "      <th></th>\n",
       "      <th></th>\n",
       "      <th></th>\n",
       "      <th></th>\n",
       "    </tr>\n",
       "  </thead>\n",
       "  <tbody>\n",
       "    <tr>\n",
       "      <th>2020-11-12</th>\n",
       "      <td>0.942596</td>\n",
       "      <td>0.217726</td>\n",
       "      <td>2020-11-12</td>\n",
       "      <td>615.010010</td>\n",
       "      <td>624.000000</td>\n",
       "      <td>596.799988</td>\n",
       "      <td>609.989990</td>\n",
       "      <td>609.989990</td>\n",
       "      <td>46475000</td>\n",
       "      <td>192.859985</td>\n",
       "      <td>1</td>\n",
       "      <td>1</td>\n",
       "      <td>0</td>\n",
       "    </tr>\n",
       "    <tr>\n",
       "      <th>2020-11-13</th>\n",
       "      <td>0.999725</td>\n",
       "      <td>0.092293</td>\n",
       "      <td>2020-11-13</td>\n",
       "      <td>410.850006</td>\n",
       "      <td>412.529999</td>\n",
       "      <td>401.660004</td>\n",
       "      <td>408.500000</td>\n",
       "      <td>408.500000</td>\n",
       "      <td>19771100</td>\n",
       "      <td>-201.489990</td>\n",
       "      <td>0</td>\n",
       "      <td>1</td>\n",
       "      <td>0</td>\n",
       "    </tr>\n",
       "    <tr>\n",
       "      <th>2020-11-16</th>\n",
       "      <td>0.998980</td>\n",
       "      <td>0.200596</td>\n",
       "      <td>2020-11-16</td>\n",
       "      <td>408.929993</td>\n",
       "      <td>412.450012</td>\n",
       "      <td>404.089996</td>\n",
       "      <td>408.089996</td>\n",
       "      <td>408.089996</td>\n",
       "      <td>26838600</td>\n",
       "      <td>-0.410004</td>\n",
       "      <td>0</td>\n",
       "      <td>0</td>\n",
       "      <td>1</td>\n",
       "    </tr>\n",
       "    <tr>\n",
       "      <th>2020-11-17</th>\n",
       "      <td>0.998251</td>\n",
       "      <td>0.192465</td>\n",
       "      <td>2020-11-17</td>\n",
       "      <td>460.170013</td>\n",
       "      <td>462.000000</td>\n",
       "      <td>433.010010</td>\n",
       "      <td>441.609985</td>\n",
       "      <td>441.609985</td>\n",
       "      <td>61188300</td>\n",
       "      <td>33.519989</td>\n",
       "      <td>1</td>\n",
       "      <td>0</td>\n",
       "      <td>1</td>\n",
       "    </tr>\n",
       "    <tr>\n",
       "      <th>2020-11-18</th>\n",
       "      <td>0.997662</td>\n",
       "      <td>0.201802</td>\n",
       "      <td>2020-11-18</td>\n",
       "      <td>448.350006</td>\n",
       "      <td>496.000000</td>\n",
       "      <td>443.500000</td>\n",
       "      <td>486.640015</td>\n",
       "      <td>486.640015</td>\n",
       "      <td>78044000</td>\n",
       "      <td>45.030030</td>\n",
       "      <td>1</td>\n",
       "      <td>1</td>\n",
       "      <td>0</td>\n",
       "    </tr>\n",
       "  </tbody>\n",
       "</table>\n",
       "</div>"
      ],
      "text/plain": [
       "            probability  tweet_polarity       Date        Open        High  \\\n",
       "date                                                                         \n",
       "2020-11-12     0.942596        0.217726 2020-11-12  615.010010  624.000000   \n",
       "2020-11-13     0.999725        0.092293 2020-11-13  410.850006  412.529999   \n",
       "2020-11-16     0.998980        0.200596 2020-11-16  408.929993  412.450012   \n",
       "2020-11-17     0.998251        0.192465 2020-11-17  460.170013  462.000000   \n",
       "2020-11-18     0.997662        0.201802 2020-11-18  448.350006  496.000000   \n",
       "\n",
       "                   Low       Close   Adj Close    Volume  Price Diff  Trend  \\\n",
       "date                                                                          \n",
       "2020-11-12  596.799988  609.989990  609.989990  46475000  192.859985      1   \n",
       "2020-11-13  401.660004  408.500000  408.500000  19771100 -201.489990      0   \n",
       "2020-11-16  404.089996  408.089996  408.089996  26838600   -0.410004      0   \n",
       "2020-11-17  433.010010  441.609985  441.609985  61188300   33.519989      1   \n",
       "2020-11-18  443.500000  486.640015  486.640015  78044000   45.030030      1   \n",
       "\n",
       "            sentiment_NEGATIVE  sentiment_POSITIVE  \n",
       "date                                                \n",
       "2020-11-12                   1                   0  \n",
       "2020-11-13                   1                   0  \n",
       "2020-11-16                   0                   1  \n",
       "2020-11-17                   0                   1  \n",
       "2020-11-18                   1                   0  "
      ]
     },
     "execution_count": 20,
     "metadata": {},
     "output_type": "execute_result"
    }
   ],
   "source": [
    "df_merged.head()"
   ]
  },
  {
   "cell_type": "markdown",
   "metadata": {},
   "source": [
    "<center><h3> Predicting TESLA Stock TREND with Random Forest Classifier Model"
   ]
  },
  {
   "cell_type": "code",
   "execution_count": 21,
   "metadata": {},
   "outputs": [],
   "source": [
    "# Select independent and dependent variales\n",
    "X = df_merged[['Adj Close', 'Volume', 'tweet_polarity', 'sentiment_NEGATIVE', 'sentiment_POSITIVE']]\n",
    "y = df_merged['Trend']"
   ]
  },
  {
   "cell_type": "code",
   "execution_count": 22,
   "metadata": {},
   "outputs": [
    {
     "data": {
      "text/plain": [
       "array([[-0.87246471,  0.85090562,  0.97004924,  0.61498384, -0.61498384],\n",
       "       [-2.7494569 , -0.54696907, -1.67908558,  0.61498384, -0.61498384],\n",
       "       [-2.75327632, -0.17700516,  0.60826108, -1.62605898,  1.62605898],\n",
       "       [-2.44101883,  1.62110585,  0.43653402, -1.62605898,  1.62605898],\n",
       "       [-2.02153886,  2.50345474,  0.63374177,  0.61498384, -0.61498384]])"
      ]
     },
     "execution_count": 22,
     "metadata": {},
     "output_type": "execute_result"
    }
   ],
   "source": [
    "## Scale the X data onto same scale\n",
    "from sklearn import preprocessing\n",
    "\n",
    "X = preprocessing.StandardScaler().fit(X).transform(X.astype(float))\n",
    "X[:5]"
   ]
  },
  {
   "cell_type": "markdown",
   "metadata": {},
   "source": [
    "#### Split the data into Train and Test sets"
   ]
  },
  {
   "cell_type": "code",
   "execution_count": 23,
   "metadata": {},
   "outputs": [],
   "source": [
    "X_train, X_test, y_train, y_test = train_test_split(X,y,test_size = 0.25, random_state = 40)"
   ]
  },
  {
   "cell_type": "markdown",
   "metadata": {},
   "source": [
    "### Create a Random Forest Classifier Model\n"
   ]
  },
  {
   "cell_type": "code",
   "execution_count": 24,
   "metadata": {},
   "outputs": [],
   "source": [
    "# Create RFClassifier model\n",
    "rf_model = RandomForestClassifier(n_estimators=500, random_state=78)\n",
    "\n",
    "# Fit the model\n",
    "rf_model = rf_model.fit(X_train, y_train)"
   ]
  },
  {
   "cell_type": "code",
   "execution_count": 25,
   "metadata": {},
   "outputs": [
    {
     "name": "stdout",
     "output_type": "stream",
     "text": [
      "Accuracy Score : 0.5185185185185185\n"
     ]
    }
   ],
   "source": [
    "# Make predictions\n",
    "predictions = rf_model.predict(X_test)\n",
    "pd.DataFrame({\"Prediction\": predictions, \"Actual\": y_test}).head(20)\n",
    "\n",
    "# Generate accuracy score for predictions using y_test\n",
    "acc_score = accuracy_score(y_test, predictions)\n",
    "print(f\"Accuracy Score : {acc_score}\")"
   ]
  },
  {
   "cell_type": "code",
   "execution_count": 26,
   "metadata": {},
   "outputs": [
    {
     "data": {
      "text/html": [
       "<div>\n",
       "<style scoped>\n",
       "    .dataframe tbody tr th:only-of-type {\n",
       "        vertical-align: middle;\n",
       "    }\n",
       "\n",
       "    .dataframe tbody tr th {\n",
       "        vertical-align: top;\n",
       "    }\n",
       "\n",
       "    .dataframe thead th {\n",
       "        text-align: right;\n",
       "    }\n",
       "</style>\n",
       "<table border=\"1\" class=\"dataframe\">\n",
       "  <thead>\n",
       "    <tr style=\"text-align: right;\">\n",
       "      <th></th>\n",
       "      <th>Predicted 0</th>\n",
       "      <th>Predicted 1</th>\n",
       "    </tr>\n",
       "  </thead>\n",
       "  <tbody>\n",
       "    <tr>\n",
       "      <th>Actual 0</th>\n",
       "      <td>8</td>\n",
       "      <td>21</td>\n",
       "    </tr>\n",
       "    <tr>\n",
       "      <th>Actual 1</th>\n",
       "      <td>5</td>\n",
       "      <td>20</td>\n",
       "    </tr>\n",
       "  </tbody>\n",
       "</table>\n",
       "</div>"
      ],
      "text/plain": [
       "          Predicted 0  Predicted 1\n",
       "Actual 0            8           21\n",
       "Actual 1            5           20"
      ]
     },
     "metadata": {},
     "output_type": "display_data"
    }
   ],
   "source": [
    "cm = confusion_matrix(y_test, predictions)\n",
    "cm_df = pd.DataFrame(\n",
    "    cm, index=[\"Actual 0\", \"Actual 1\"],\n",
    "    columns=[\"Predicted 0\", \"Predicted 1\"]\n",
    ")\n",
    "display(cm_df)"
   ]
  },
  {
   "cell_type": "code",
   "execution_count": 27,
   "metadata": {},
   "outputs": [
    {
     "name": "stdout",
     "output_type": "stream",
     "text": [
      "Classification Report\n",
      "              precision    recall  f1-score   support\n",
      "\n",
      "           0       0.62      0.28      0.38        29\n",
      "           1       0.49      0.80      0.61        25\n",
      "\n",
      "    accuracy                           0.52        54\n",
      "   macro avg       0.55      0.54      0.49        54\n",
      "weighted avg       0.56      0.52      0.49        54\n",
      "\n"
     ]
    }
   ],
   "source": [
    "# Generating classification report\n",
    "print(\"Classification Report\")\n",
    "print(classification_report(y_test, predictions))"
   ]
  },
  {
   "cell_type": "markdown",
   "metadata": {},
   "source": [
    "### Create a Gradient Booster Model\n"
   ]
  },
  {
   "cell_type": "code",
   "execution_count": 28,
   "metadata": {},
   "outputs": [
    {
     "name": "stdout",
     "output_type": "stream",
     "text": [
      "Accuracy score (training): 0.801\n",
      "Accuracy score (validation): 0.426\n",
      "\n"
     ]
    }
   ],
   "source": [
    "# Choosing learning rate\n",
    "\n",
    "model = GradientBoostingClassifier(n_estimators=20,\n",
    "                                      learning_rate=0.05,\n",
    "                                      max_features=2,\n",
    "                                      max_depth=3,\n",
    "                                      random_state=0)\n",
    "model.fit(X_train,y_train)\n",
    "GB_pred = model.predict(X_test)\n",
    "\n",
    "    \n",
    "# Scoring the model\n",
    "print(\"Accuracy score (training): {0:.3f}\".format(\n",
    "        model.score(\n",
    "            X_train, \n",
    "            y_train)))\n",
    "print(\"Accuracy score (validation): {0:.3f}\".format(\n",
    "        model.score(\n",
    "            X_test, \n",
    "            y_test)))\n",
    "print()"
   ]
  },
  {
   "cell_type": "markdown",
   "metadata": {},
   "source": [
    "### Evaluation of a Model\n",
    "Using sklearn to build the confusion matrix and generate the classification report, evaluating the model's findings."
   ]
  },
  {
   "cell_type": "code",
   "execution_count": 29,
   "metadata": {},
   "outputs": [
    {
     "data": {
      "text/html": [
       "<div>\n",
       "<style scoped>\n",
       "    .dataframe tbody tr th:only-of-type {\n",
       "        vertical-align: middle;\n",
       "    }\n",
       "\n",
       "    .dataframe tbody tr th {\n",
       "        vertical-align: top;\n",
       "    }\n",
       "\n",
       "    .dataframe thead th {\n",
       "        text-align: right;\n",
       "    }\n",
       "</style>\n",
       "<table border=\"1\" class=\"dataframe\">\n",
       "  <thead>\n",
       "    <tr style=\"text-align: right;\">\n",
       "      <th></th>\n",
       "      <th>Predicted 0</th>\n",
       "      <th>Predicted 1</th>\n",
       "    </tr>\n",
       "  </thead>\n",
       "  <tbody>\n",
       "    <tr>\n",
       "      <th>Actual 0</th>\n",
       "      <td>1</td>\n",
       "      <td>28</td>\n",
       "    </tr>\n",
       "    <tr>\n",
       "      <th>Actual 1</th>\n",
       "      <td>3</td>\n",
       "      <td>22</td>\n",
       "    </tr>\n",
       "  </tbody>\n",
       "</table>\n",
       "</div>"
      ],
      "text/plain": [
       "          Predicted 0  Predicted 1\n",
       "Actual 0            1           28\n",
       "Actual 1            3           22"
      ]
     },
     "metadata": {},
     "output_type": "display_data"
    }
   ],
   "source": [
    "cm = confusion_matrix(y_test, GB_pred)\n",
    "cm_df = pd.DataFrame(\n",
    "    cm, index=[\"Actual 0\", \"Actual 1\"],\n",
    "    columns=[\"Predicted 0\", \"Predicted 1\"]\n",
    ")\n",
    "display(cm_df)"
   ]
  },
  {
   "cell_type": "code",
   "execution_count": 30,
   "metadata": {},
   "outputs": [
    {
     "name": "stdout",
     "output_type": "stream",
     "text": [
      "Classification Report\n",
      "              precision    recall  f1-score   support\n",
      "\n",
      "           0       0.25      0.03      0.06        29\n",
      "           1       0.44      0.88      0.59        25\n",
      "\n",
      "    accuracy                           0.43        54\n",
      "   macro avg       0.34      0.46      0.32        54\n",
      "weighted avg       0.34      0.43      0.30        54\n",
      "\n"
     ]
    }
   ],
   "source": [
    "# Generating classification report\n",
    "print(\"Classification Report\")\n",
    "print(classification_report(y_test, GB_pred))"
   ]
  },
  {
   "cell_type": "markdown",
   "metadata": {},
   "source": [
    "<center><h2> Random Forest Regressor Model - TESLA Stock Price Prediction\n"
   ]
  },
  {
   "cell_type": "markdown",
   "metadata": {},
   "source": [
    "In this approach the tweet polarity, price differeces the adjusted closing prices were used to predict the future movement in Apple stock price. The adjusted closing prices data was stuctured such that previous time steps were used as input variables and the next time step as the output variable."
   ]
  },
  {
   "cell_type": "markdown",
   "metadata": {},
   "source": [
    "#### Select required data for regression analysis variables"
   ]
  },
  {
   "cell_type": "code",
   "execution_count": 31,
   "metadata": {},
   "outputs": [
    {
     "data": {
      "text/html": [
       "<div>\n",
       "<style scoped>\n",
       "    .dataframe tbody tr th:only-of-type {\n",
       "        vertical-align: middle;\n",
       "    }\n",
       "\n",
       "    .dataframe tbody tr th {\n",
       "        vertical-align: top;\n",
       "    }\n",
       "\n",
       "    .dataframe thead th {\n",
       "        text-align: right;\n",
       "    }\n",
       "</style>\n",
       "<table border=\"1\" class=\"dataframe\">\n",
       "  <thead>\n",
       "    <tr style=\"text-align: right;\">\n",
       "      <th></th>\n",
       "      <th>Adj Close</th>\n",
       "      <th>Price Diff</th>\n",
       "      <th>sentiment_POSITIVE</th>\n",
       "      <th>Volume</th>\n",
       "      <th>tweet_polarity</th>\n",
       "    </tr>\n",
       "    <tr>\n",
       "      <th>date</th>\n",
       "      <th></th>\n",
       "      <th></th>\n",
       "      <th></th>\n",
       "      <th></th>\n",
       "      <th></th>\n",
       "    </tr>\n",
       "  </thead>\n",
       "  <tbody>\n",
       "    <tr>\n",
       "      <th>2020-11-12</th>\n",
       "      <td>609.989990</td>\n",
       "      <td>192.859985</td>\n",
       "      <td>0</td>\n",
       "      <td>46475000</td>\n",
       "      <td>0.217726</td>\n",
       "    </tr>\n",
       "    <tr>\n",
       "      <th>2020-11-13</th>\n",
       "      <td>408.500000</td>\n",
       "      <td>-201.489990</td>\n",
       "      <td>0</td>\n",
       "      <td>19771100</td>\n",
       "      <td>0.092293</td>\n",
       "    </tr>\n",
       "    <tr>\n",
       "      <th>2020-11-16</th>\n",
       "      <td>408.089996</td>\n",
       "      <td>-0.410004</td>\n",
       "      <td>1</td>\n",
       "      <td>26838600</td>\n",
       "      <td>0.200596</td>\n",
       "    </tr>\n",
       "    <tr>\n",
       "      <th>2020-11-17</th>\n",
       "      <td>441.609985</td>\n",
       "      <td>33.519989</td>\n",
       "      <td>1</td>\n",
       "      <td>61188300</td>\n",
       "      <td>0.192465</td>\n",
       "    </tr>\n",
       "    <tr>\n",
       "      <th>2020-11-18</th>\n",
       "      <td>486.640015</td>\n",
       "      <td>45.030030</td>\n",
       "      <td>0</td>\n",
       "      <td>78044000</td>\n",
       "      <td>0.201802</td>\n",
       "    </tr>\n",
       "  </tbody>\n",
       "</table>\n",
       "</div>"
      ],
      "text/plain": [
       "             Adj Close  Price Diff  sentiment_POSITIVE    Volume  \\\n",
       "date                                                               \n",
       "2020-11-12  609.989990  192.859985                   0  46475000   \n",
       "2020-11-13  408.500000 -201.489990                   0  19771100   \n",
       "2020-11-16  408.089996   -0.410004                   1  26838600   \n",
       "2020-11-17  441.609985   33.519989                   1  61188300   \n",
       "2020-11-18  486.640015   45.030030                   0  78044000   \n",
       "\n",
       "            tweet_polarity  \n",
       "date                        \n",
       "2020-11-12        0.217726  \n",
       "2020-11-13        0.092293  \n",
       "2020-11-16        0.200596  \n",
       "2020-11-17        0.192465  \n",
       "2020-11-18        0.201802  "
      ]
     },
     "execution_count": 31,
     "metadata": {},
     "output_type": "execute_result"
    }
   ],
   "source": [
    "df2 = df_merged[['Adj Close','Price Diff', 'sentiment_POSITIVE', 'Volume', 'tweet_polarity']]\n",
    "df2.head()"
   ]
  },
  {
   "cell_type": "code",
   "execution_count": 32,
   "metadata": {},
   "outputs": [
    {
     "data": {
      "text/html": [
       "<div>\n",
       "<style scoped>\n",
       "    .dataframe tbody tr th:only-of-type {\n",
       "        vertical-align: middle;\n",
       "    }\n",
       "\n",
       "    .dataframe tbody tr th {\n",
       "        vertical-align: top;\n",
       "    }\n",
       "\n",
       "    .dataframe thead th {\n",
       "        text-align: right;\n",
       "    }\n",
       "</style>\n",
       "<table border=\"1\" class=\"dataframe\">\n",
       "  <thead>\n",
       "    <tr style=\"text-align: right;\">\n",
       "      <th></th>\n",
       "      <th>Adj Close</th>\n",
       "      <th>Price Diff</th>\n",
       "      <th>sentiment_POSITIVE</th>\n",
       "      <th>Volume</th>\n",
       "      <th>tweet_polarity</th>\n",
       "      <th>Pct_change</th>\n",
       "    </tr>\n",
       "    <tr>\n",
       "      <th>date</th>\n",
       "      <th></th>\n",
       "      <th></th>\n",
       "      <th></th>\n",
       "      <th></th>\n",
       "      <th></th>\n",
       "      <th></th>\n",
       "    </tr>\n",
       "  </thead>\n",
       "  <tbody>\n",
       "    <tr>\n",
       "      <th>2020-11-13</th>\n",
       "      <td>408.500000</td>\n",
       "      <td>-201.489990</td>\n",
       "      <td>0</td>\n",
       "      <td>19771100</td>\n",
       "      <td>0.092293</td>\n",
       "      <td>-0.330317</td>\n",
       "    </tr>\n",
       "    <tr>\n",
       "      <th>2020-11-16</th>\n",
       "      <td>408.089996</td>\n",
       "      <td>-0.410004</td>\n",
       "      <td>1</td>\n",
       "      <td>26838600</td>\n",
       "      <td>0.200596</td>\n",
       "      <td>-0.001004</td>\n",
       "    </tr>\n",
       "    <tr>\n",
       "      <th>2020-11-17</th>\n",
       "      <td>441.609985</td>\n",
       "      <td>33.519989</td>\n",
       "      <td>1</td>\n",
       "      <td>61188300</td>\n",
       "      <td>0.192465</td>\n",
       "      <td>0.082139</td>\n",
       "    </tr>\n",
       "    <tr>\n",
       "      <th>2020-11-18</th>\n",
       "      <td>486.640015</td>\n",
       "      <td>45.030030</td>\n",
       "      <td>0</td>\n",
       "      <td>78044000</td>\n",
       "      <td>0.201802</td>\n",
       "      <td>0.101968</td>\n",
       "    </tr>\n",
       "    <tr>\n",
       "      <th>2020-11-19</th>\n",
       "      <td>499.269989</td>\n",
       "      <td>12.629974</td>\n",
       "      <td>0</td>\n",
       "      <td>62475300</td>\n",
       "      <td>0.163081</td>\n",
       "      <td>0.025953</td>\n",
       "    </tr>\n",
       "  </tbody>\n",
       "</table>\n",
       "</div>"
      ],
      "text/plain": [
       "             Adj Close  Price Diff  sentiment_POSITIVE    Volume  \\\n",
       "date                                                               \n",
       "2020-11-13  408.500000 -201.489990                   0  19771100   \n",
       "2020-11-16  408.089996   -0.410004                   1  26838600   \n",
       "2020-11-17  441.609985   33.519989                   1  61188300   \n",
       "2020-11-18  486.640015   45.030030                   0  78044000   \n",
       "2020-11-19  499.269989   12.629974                   0  62475300   \n",
       "\n",
       "            tweet_polarity  Pct_change  \n",
       "date                                    \n",
       "2020-11-13        0.092293   -0.330317  \n",
       "2020-11-16        0.200596   -0.001004  \n",
       "2020-11-17        0.192465    0.082139  \n",
       "2020-11-18        0.201802    0.101968  \n",
       "2020-11-19        0.163081    0.025953  "
      ]
     },
     "execution_count": 32,
     "metadata": {},
     "output_type": "execute_result"
    }
   ],
   "source": [
    "# pct change based on Adj close value\n",
    "df2[\"Pct_change\"] = df2[\"Adj Close\"].pct_change()\n",
    "# Drop null values\n",
    "df2.dropna(inplace = True)\n",
    "df2.head()"
   ]
  },
  {
   "cell_type": "markdown",
   "metadata": {},
   "source": [
    "#### Creating the features and target variables data"
   ]
  },
  {
   "cell_type": "markdown",
   "metadata": {},
   "source": [
    "This function fragments the data with an Xt - window to forecast Xt - rolling window.\n",
    "\n",
    "Two numpy arrays are returned by the function:\n",
    "\n",
    "X: The input consists of vectors.\n",
    "\n",
    "y: The vector to be targeted.\n",
    "\n",
    "The following are the parameters for the function:\n",
    "\n",
    "df: The time series data's original DataFrame.\n",
    "\n",
    "window: The number of days in which past closing prices will be utilised to make the forecast.<br>\n",
    "feature col number: The column number in the original DataFrame that contains the features.<br>\n",
    "target col number: The target's column number in the original DataFrame."
   ]
  },
  {
   "cell_type": "code",
   "execution_count": 33,
   "metadata": {},
   "outputs": [],
   "source": [
    "# It slices the data up using a rolling window of Xt-n to forecast Xt. \n",
    "# This function \"rolling_window\" accepts the column number for the features (X) and the target (y).\n",
    "# It gives you a numpy array with X and y values.\n",
    "\n",
    "def rolling_window(df, window, feature_col_number1, feature_col_number2, feature_col_number3, target_col_number):\n",
    "    # Create empty lists \"X_close\", \"X_Price_Diff\", \"Tweet score polarity\" and y\n",
    "    X_close = []\n",
    "    X_Price_Diff = []\n",
    "    X_tweet_polarity = []\n",
    "    y = []\n",
    "    for i in range(len(df) - window):\n",
    "        \n",
    "        # Get close, Price_Diff, sentiment, and target in the loop\n",
    "        close = df.iloc[i:(i + window), feature_col_number1]\n",
    "        Price_Diff = df.iloc[i:(i + window), feature_col_number2]\n",
    "        polarity = df.iloc[i:(i + window), feature_col_number3]\n",
    "        target = df.iloc[(i + window), target_col_number]\n",
    "        \n",
    "        # Append values in the lists\n",
    "        X_close.append(close)\n",
    "        X_Price_Diff.append(Price_Diff)\n",
    "        X_tweet_polarity.append(polarity)\n",
    "        y.append(target)\n",
    "        \n",
    "    return np.hstack((X_close,X_Price_Diff,X_tweet_polarity)), np.array(y).reshape(-1, 1)"
   ]
  },
  {
   "cell_type": "code",
   "execution_count": 34,
   "metadata": {},
   "outputs": [],
   "source": [
    "# Predict Closing Prices using a 3 day window of previous closing prices\n",
    "window_size = 3\n",
    "\n",
    "feature_col_number1 = 0\n",
    "feature_col_number2 = 1\n",
    "feature_col_number3 = 2\n",
    "target_col_number = 0\n",
    "X, y = rolling_window(df2, window_size, feature_col_number1, feature_col_number2, feature_col_number3, target_col_number)"
   ]
  },
  {
   "cell_type": "code",
   "execution_count": 35,
   "metadata": {},
   "outputs": [],
   "source": [
    "## Preprocess the data to scale in same minimum and maximum\n",
    "X = preprocessing.StandardScaler().fit(X).transform(X.astype(float))"
   ]
  },
  {
   "cell_type": "code",
   "execution_count": 36,
   "metadata": {},
   "outputs": [],
   "source": [
    "X_train, X_test, y_train, y_test = train_test_split(X,y,test_size = 0.25, random_state = 40)"
   ]
  },
  {
   "cell_type": "code",
   "execution_count": 37,
   "metadata": {},
   "outputs": [],
   "source": [
    "from xgboost import XGBRegressor\n",
    "\n",
    "# Create the XG Boost regressor instance\n",
    "model = XGBRegressor(objective='reg:squarederror', n_estimators=1000)"
   ]
  },
  {
   "cell_type": "code",
   "execution_count": 38,
   "metadata": {},
   "outputs": [
    {
     "data": {
      "text/plain": [
       "XGBRegressor(base_score=0.5, booster='gbtree', colsample_bylevel=1,\n",
       "             colsample_bynode=1, colsample_bytree=1, gamma=0, gpu_id=-1,\n",
       "             importance_type='gain', interaction_constraints='',\n",
       "             learning_rate=0.300000012, max_delta_step=0, max_depth=6,\n",
       "             min_child_weight=1, missing=nan, monotone_constraints='()',\n",
       "             n_estimators=1000, n_jobs=4, num_parallel_tree=1, random_state=0,\n",
       "             reg_alpha=0, reg_lambda=1, scale_pos_weight=1, subsample=1,\n",
       "             tree_method='exact', validate_parameters=1, verbosity=None)"
      ]
     },
     "execution_count": 38,
     "metadata": {},
     "output_type": "execute_result"
    }
   ],
   "source": [
    "# Fit the model\n",
    "model.fit(X_train, y_train)"
   ]
  },
  {
   "cell_type": "code",
   "execution_count": 39,
   "metadata": {},
   "outputs": [],
   "source": [
    "# Make some predictions\n",
    "predicted = model.predict(X_test)"
   ]
  },
  {
   "cell_type": "code",
   "execution_count": 40,
   "metadata": {},
   "outputs": [
    {
     "name": "stdout",
     "output_type": "stream",
     "text": [
      "Root Mean Squared Error: 55.72430181881234\n",
      "R-squared : 0.3820163267067429\n"
     ]
    }
   ],
   "source": [
    "# Evaluating the model\n",
    "print('Root Mean Squared Error:', np.sqrt(mean_squared_error(y_test, predicted)))\n",
    "print('R-squared :', r2_score(y_test, predicted))"
   ]
  },
  {
   "cell_type": "code",
   "execution_count": 41,
   "metadata": {},
   "outputs": [
    {
     "data": {
      "text/html": [
       "<div>\n",
       "<style scoped>\n",
       "    .dataframe tbody tr th:only-of-type {\n",
       "        vertical-align: middle;\n",
       "    }\n",
       "\n",
       "    .dataframe tbody tr th {\n",
       "        vertical-align: top;\n",
       "    }\n",
       "\n",
       "    .dataframe thead th {\n",
       "        text-align: right;\n",
       "    }\n",
       "</style>\n",
       "<table border=\"1\" class=\"dataframe\">\n",
       "  <thead>\n",
       "    <tr style=\"text-align: right;\">\n",
       "      <th></th>\n",
       "      <th>Real</th>\n",
       "      <th>Predicted</th>\n",
       "    </tr>\n",
       "    <tr>\n",
       "      <th>date</th>\n",
       "      <th></th>\n",
       "      <th></th>\n",
       "    </tr>\n",
       "  </thead>\n",
       "  <tbody>\n",
       "    <tr>\n",
       "      <th>2021-08-10</th>\n",
       "      <td>653.380005</td>\n",
       "      <td>650.765625</td>\n",
       "    </tr>\n",
       "    <tr>\n",
       "      <th>2021-08-13</th>\n",
       "      <td>655.289978</td>\n",
       "      <td>657.669189</td>\n",
       "    </tr>\n",
       "    <tr>\n",
       "      <th>2021-08-16</th>\n",
       "      <td>846.640015</td>\n",
       "      <td>837.144958</td>\n",
       "    </tr>\n",
       "    <tr>\n",
       "      <th>2021-08-17</th>\n",
       "      <td>708.489990</td>\n",
       "      <td>747.709839</td>\n",
       "    </tr>\n",
       "    <tr>\n",
       "      <th>2021-08-18</th>\n",
       "      <td>677.349976</td>\n",
       "      <td>671.159851</td>\n",
       "    </tr>\n",
       "  </tbody>\n",
       "</table>\n",
       "</div>"
      ],
      "text/plain": [
       "                  Real   Predicted\n",
       "date                              \n",
       "2021-08-10  653.380005  650.765625\n",
       "2021-08-13  655.289978  657.669189\n",
       "2021-08-16  846.640015  837.144958\n",
       "2021-08-17  708.489990  747.709839\n",
       "2021-08-18  677.349976  671.159851"
      ]
     },
     "execution_count": 41,
     "metadata": {},
     "output_type": "execute_result"
    }
   ],
   "source": [
    "# Create a DataFrame of Real and Predicted values\n",
    "stocks_1 = pd.DataFrame({\"Real\": y_test.ravel(), \"Predicted\": predicted},\n",
    "                     index = df2.index[-len(y_test): ]) \n",
    "stocks_1.head()"
   ]
  },
  {
   "cell_type": "code",
   "execution_count": 54,
   "metadata": {},
   "outputs": [
    {
     "data": {
      "text/plain": [
       "<AxesSubplot:title={'center':'Real vs Predicted values of Tesla Stock'}, xlabel='date'>"
      ]
     },
     "execution_count": 54,
     "metadata": {},
     "output_type": "execute_result"
    },
    {
     "data": {
      "image/png": "[encoded data removed]",
      "text/plain": [
       "<Figure size 864x432 with 1 Axes>"
      ]
     },
     "metadata": {},
     "output_type": "display_data"
    }
   ],
   "source": [
    "# Plot the real vs predicted values as a line chart\n",
    "import matplotlib.pyplot as plt\n",
    "stocks_1.plot(title = \"Real vs Predicted values of Tesla Stock\")"
   ]
  },
  {
   "cell_type": "markdown",
   "metadata": {},
   "source": [
    "### Random Forest Model"
   ]
  },
  {
   "cell_type": "code",
   "execution_count": 47,
   "metadata": {},
   "outputs": [],
   "source": [
    "\n",
    "# Create the Random Forest regressor instance\n",
    "rf_model = RandomForestRegressor(n_estimators=1000, max_depth=2, bootstrap=False, min_samples_leaf=1)"
   ]
  },
  {
   "cell_type": "code",
   "execution_count": 48,
   "metadata": {},
   "outputs": [
    {
     "data": {
      "text/plain": [
       "RandomForestRegressor(bootstrap=False, max_depth=2, n_estimators=1000)"
      ]
     },
     "execution_count": 48,
     "metadata": {},
     "output_type": "execute_result"
    }
   ],
   "source": [
    "# Fit the model\n",
    "rf_model.fit(X_train, y_train)"
   ]
  },
  {
   "cell_type": "code",
   "execution_count": 49,
   "metadata": {},
   "outputs": [],
   "source": [
    "# Make some predictions\n",
    "RF_pred = rf_model.predict(X_test)"
   ]
  },
  {
   "cell_type": "markdown",
   "metadata": {},
   "source": [
    "### Model EValuation:\n",
    "    \n",
    "* Using the X test and y test data, evaluate the model.<br>\n",
    "* Make predictions based on the X test data.<br>\n",
    "* Make a DataFrame with Real (y test) and Predicted (y test) values.<br>\n",
    "* Make a line graph of the real vs. expected values."
   ]
  },
  {
   "cell_type": "code",
   "execution_count": 50,
   "metadata": {},
   "outputs": [
    {
     "name": "stdout",
     "output_type": "stream",
     "text": [
      "Root Mean Squared Error: 55.72430181881234\n",
      "R-squared : 0.3820163267067429\n"
     ]
    }
   ],
   "source": [
    "# Evaluating the model\n",
    "print('Root Mean Squared Error:', np.sqrt(mean_squared_error(y_test, predicted)))\n",
    "print('R-squared :', r2_score(y_test, predicted))"
   ]
  },
  {
   "cell_type": "code",
   "execution_count": 51,
   "metadata": {},
   "outputs": [
    {
     "data": {
      "text/html": [
       "<div>\n",
       "<style scoped>\n",
       "    .dataframe tbody tr th:only-of-type {\n",
       "        vertical-align: middle;\n",
       "    }\n",
       "\n",
       "    .dataframe tbody tr th {\n",
       "        vertical-align: top;\n",
       "    }\n",
       "\n",
       "    .dataframe thead th {\n",
       "        text-align: right;\n",
       "    }\n",
       "</style>\n",
       "<table border=\"1\" class=\"dataframe\">\n",
       "  <thead>\n",
       "    <tr style=\"text-align: right;\">\n",
       "      <th></th>\n",
       "      <th>Real</th>\n",
       "      <th>Predicted</th>\n",
       "    </tr>\n",
       "    <tr>\n",
       "      <th>date</th>\n",
       "      <th></th>\n",
       "      <th></th>\n",
       "    </tr>\n",
       "  </thead>\n",
       "  <tbody>\n",
       "    <tr>\n",
       "      <th>2021-08-10</th>\n",
       "      <td>653.380005</td>\n",
       "      <td>682.052715</td>\n",
       "    </tr>\n",
       "    <tr>\n",
       "      <th>2021-08-13</th>\n",
       "      <td>655.289978</td>\n",
       "      <td>682.052715</td>\n",
       "    </tr>\n",
       "    <tr>\n",
       "      <th>2021-08-16</th>\n",
       "      <td>846.640015</td>\n",
       "      <td>776.024811</td>\n",
       "    </tr>\n",
       "    <tr>\n",
       "      <th>2021-08-17</th>\n",
       "      <td>708.489990</td>\n",
       "      <td>682.052715</td>\n",
       "    </tr>\n",
       "    <tr>\n",
       "      <th>2021-08-18</th>\n",
       "      <td>677.349976</td>\n",
       "      <td>682.052715</td>\n",
       "    </tr>\n",
       "  </tbody>\n",
       "</table>\n",
       "</div>"
      ],
      "text/plain": [
       "                  Real   Predicted\n",
       "date                              \n",
       "2021-08-10  653.380005  682.052715\n",
       "2021-08-13  655.289978  682.052715\n",
       "2021-08-16  846.640015  776.024811\n",
       "2021-08-17  708.489990  682.052715\n",
       "2021-08-18  677.349976  682.052715"
      ]
     },
     "execution_count": 51,
     "metadata": {},
     "output_type": "execute_result"
    }
   ],
   "source": [
    "# Create a DataFrame of Real and Predicted values\n",
    "stocks_2 = pd.DataFrame({\"Real\": y_test.ravel(), \"Predicted\": RF_pred},\n",
    "                     index = df2.index[-len(y_test): ]) \n",
    "stocks_2.head()"
   ]
  },
  {
   "cell_type": "code",
   "execution_count": 55,
   "metadata": {},
   "outputs": [
    {
     "data": {
      "text/plain": [
       "<AxesSubplot:title={'center':'Real vs Predicted values of TESLA'}, xlabel='date'>"
      ]
     },
     "execution_count": 55,
     "metadata": {},
     "output_type": "execute_result"
    },
    {
     "data": {
      "image/png": "[encoded data removed]",
      "text/plain": [
       "<Figure size 864x432 with 1 Axes>"
      ]
     },
     "metadata": {},
     "output_type": "display_data"
    }
   ],
   "source": [
    "# Plot the real vs predicted values as a line chart\n",
    "stocks_2.plot(title = \"Real vs Predicted values of TESLA\")"
   ]
  },
  {
   "cell_type": "markdown",
   "metadata": {},
   "source": [
    "<center><h2> THE END"
   ]
  },
  {
   "cell_type": "code",
   "execution_count": null,
   "metadata": {},
   "outputs": [],
   "source": []
  },
  {
   "cell_type": "code",
   "execution_count": null,
   "metadata": {},
   "outputs": [],
   "source": []
  }
 ],
 "metadata": {
  "kernelspec": {
   "display_name": "Python 3",
   "language": "python",
   "name": "python3"
  },
  "language_info": {
   "codemirror_mode": {
    "name": "ipython",
    "version": 3
   },
   "file_extension": ".py",
   "mimetype": "text/x-python",
   "name": "python",
   "nbconvert_exporter": "python",
   "pygments_lexer": "ipython3",
   "version": "3.7.9"
  }
 },
 "nbformat": 4,
 "nbformat_minor": 4
}
